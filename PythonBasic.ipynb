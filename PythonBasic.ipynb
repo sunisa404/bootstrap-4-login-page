{
  "nbformat": 4,
  "nbformat_minor": 0,
  "metadata": {
    "colab": {
      "provenance": [],
      "authorship_tag": "ABX9TyNwGFASKmU5dVc9/Uk9B8q+",
      "include_colab_link": true
    },
    "kernelspec": {
      "name": "python3",
      "display_name": "Python 3"
    },
    "language_info": {
      "name": "python"
    }
  },
  "cells": [
    {
      "cell_type": "markdown",
      "metadata": {
        "id": "view-in-github",
        "colab_type": "text"
      },
      "source": [
        "<a href=\"https://colab.research.google.com/github/sunisa404/bootstrap-4-login-page/blob/master/PythonBasic.ipynb\" target=\"_parent\"><img src=\"https://colab.research.google.com/assets/colab-badge.svg\" alt=\"Open In Colab\"/></a>"
      ]
    },
    {
      "cell_type": "code",
      "execution_count": null,
      "metadata": {
        "id": "FXJO6HB4TkX9"
      },
      "outputs": [],
      "source": [
        "#อบรม Github และ Python\n",
        "#654245024 สุนิสา จันทร์เจริญ"
      ]
    },
    {
      "cell_type": "code",
      "source": [
        "name = input(\"กรุณากรอกชื่อ: \")\n",
        "print(\"ยินดีต้อนรับครับคุณ:\"+name)"
      ],
      "metadata": {
        "id": "sWSEkwBsUOMk",
        "colab": {
          "base_uri": "https://localhost:8080/"
        },
        "outputId": "5b7d31b9-b5b7-4dcb-d88f-0201e5d14ddc"
      },
      "execution_count": null,
      "outputs": [
        {
          "output_type": "stream",
          "name": "stdout",
          "text": [
            "กรุณากรอกชื่อ: jdjd\n",
            "ยินดีต้อนรับครับคุณ:jdjd\n"
          ]
        }
      ]
    },
    {
      "cell_type": "code",
      "source": [
        "num1 = int(input('รับค่า 1:'))\n",
        "print(\"บวกกับ\")\n",
        "num2 = int(input('รับค่า 2:'))\n",
        "\n",
        "total = num1+num2\n",
        "print(\"ผลการบวก = \"+str(total))"
      ],
      "metadata": {
        "colab": {
          "base_uri": "https://localhost:8080/"
        },
        "id": "dlh_NjFaW4I0",
        "outputId": "ade7ebdf-53ff-424b-9b2e-0bf9b41cb1f8"
      },
      "execution_count": null,
      "outputs": [
        {
          "output_type": "stream",
          "name": "stdout",
          "text": [
            "รับค่า 1:1\n",
            "บวกกับ\n",
            "รับค่า 2:1\n",
            "ผลการบวก = 2\n"
          ]
        }
      ]
    },
    {
      "cell_type": "code",
      "source": [
        "w = float(input('น้ำหนัก (กิโลกรัม): '))\n",
        "h = float(input('ส่วนสูง (เซนติเมตร): '))\n",
        "\n",
        "# แปลงส่วนสูงจากเซนติเมตรเป็นเมตร\n",
        "h = h / 100\n",
        "\n",
        "# คำนวณ BMI\n",
        "bmi = w / (h * h)\n",
        "\n",
        "# แสดงผล\n",
        "print(\"BMI = \" + str(bmi))\n"
      ],
      "metadata": {
        "colab": {
          "base_uri": "https://localhost:8080/"
        },
        "id": "KjmjoNiHZ7I8",
        "outputId": "3e8ad993-4be6-411f-ffc9-5808fc42af00"
      },
      "execution_count": null,
      "outputs": [
        {
          "output_type": "stream",
          "name": "stdout",
          "text": [
            "น้ำหนัก (กิโลกรัม): 46\n",
            "ส่วนสูง (เซนติเมตร): 155\n",
            "BMI = 19.14672216441207\n"
          ]
        }
      ]
    },
    {
      "cell_type": "code",
      "source": [
        "#การใช้ if else\n",
        "a = 50\n",
        "b = 70\n",
        "if a>b:\n",
        "  print('a มากกว่า b')\n",
        "if a<b:\n",
        "  print('a น้อยกว่า b')"
      ],
      "metadata": {
        "colab": {
          "base_uri": "https://localhost:8080/"
        },
        "id": "EKe6KjQBj5MF",
        "outputId": "d8f4ea01-c1c6-4c36-ce8e-9d963fd81b27"
      },
      "execution_count": null,
      "outputs": [
        {
          "output_type": "stream",
          "name": "stdout",
          "text": [
            "a น้อยกว่า b\n"
          ]
        }
      ]
    },
    {
      "cell_type": "code",
      "source": [
        "w = float(input('น้ำหนัก (กิโลกรัม): '))\n",
        "h = float(input('ส่วนสูง (เซนติเมตร): '))\n",
        "\n",
        "# แปลงส่วนสูงจากเซนติเมตรเป็นเมตร\n",
        "h = h / 100\n",
        "\n",
        "# คำนวณ BMI\n",
        "bmi = w / (h * h)\n",
        "\n",
        "# แสดงผล\n",
        "print(\"BMI = \" + str(bmi))\n",
        "\n",
        "# ตรวจสอบ BMI และแสดงคำแนะนำ\n",
        "if bmi >= 30:\n",
        "    print('คุณควรออกกำลังกายนะคะ')\n",
        "\n",
        "else:\n",
        "    print('ไปทานอาหารเพิ่มนะคะคนดี')\n",
        "\n"
      ],
      "metadata": {
        "colab": {
          "base_uri": "https://localhost:8080/"
        },
        "id": "s21uHRhIlZpj",
        "outputId": "ffb8a2a3-ff99-41b7-ba67-fb309d69f090"
      },
      "execution_count": null,
      "outputs": [
        {
          "output_type": "stream",
          "name": "stdout",
          "text": [
            "น้ำหนัก (กิโลกรัม): 46\n",
            "ส่วนสูง (เซนติเมตร): 155\n",
            "BMI = 19.14672216441207\n",
            "ไปทานอาหารเพิ่มนะคะคนดี\n"
          ]
        }
      ]
    },
    {
      "cell_type": "code",
      "source": [
        "i = 1\n",
        "while i < 7:\n",
        "    print('สวัสดี' + str(i))\n",
        "    i = i + 1  # เพิ่มค่า i\n",
        "\n"
      ],
      "metadata": {
        "colab": {
          "base_uri": "https://localhost:8080/"
        },
        "id": "vFp3O3atrmLb",
        "outputId": "1a12405c-3879-4fe8-a2f1-51dcd652d5c6"
      },
      "execution_count": null,
      "outputs": [
        {
          "output_type": "stream",
          "name": "stdout",
          "text": [
            "สวัสดี1\n",
            "สวัสดี2\n",
            "สวัสดี3\n",
            "สวัสดี4\n",
            "สวัสดี5\n",
            "สวัสดี6\n"
          ]
        }
      ]
    },
    {
      "cell_type": "code",
      "source": [
        "#ใช้ Loops For\n",
        "for x in range(10):\n",
        "  x=x+1\n",
        "  print(x)"
      ],
      "metadata": {
        "colab": {
          "base_uri": "https://localhost:8080/"
        },
        "id": "oL_5sYf8t6xL",
        "outputId": "7a84c5de-3a7f-4e03-8162-6c06708ab4a7"
      },
      "execution_count": 61,
      "outputs": [
        {
          "output_type": "stream",
          "name": "stdout",
          "text": [
            "1\n",
            "2\n",
            "3\n",
            "4\n",
            "5\n",
            "6\n",
            "7\n",
            "8\n",
            "9\n",
            "10\n"
          ]
        }
      ]
    },
    {
      "cell_type": "code",
      "source": [
        "for x in range(1, 11):  # ตั้งแต่ 1 ถึง 10\n",
        "    print(f\"6 x {x} = {6 * x}\")\n"
      ],
      "metadata": {
        "colab": {
          "base_uri": "https://localhost:8080/"
        },
        "id": "og0VqI5Su18L",
        "outputId": "7033faf9-0e21-4e92-cc49-91d842bac712"
      },
      "execution_count": null,
      "outputs": [
        {
          "output_type": "stream",
          "name": "stdout",
          "text": [
            "6 x 1 = 6\n",
            "6 x 2 = 12\n",
            "6 x 3 = 18\n",
            "6 x 4 = 24\n",
            "6 x 5 = 30\n",
            "6 x 6 = 36\n",
            "6 x 7 = 42\n",
            "6 x 8 = 48\n",
            "6 x 9 = 54\n",
            "6 x 10 = 60\n"
          ]
        }
      ]
    },
    {
      "cell_type": "code",
      "source": [
        "# รับค่าแม่สูตรคูณจากผู้ใช้\n",
        "sootcoon = int(input('กรุณาป้อนแม่สูตรคูณ: '))\n",
        "print('-------------------')\n",
        "# ลูปแสดงผลสูตรคูณ\n",
        "for x in range(1, 11):  # ตั้งแต่ 1 ถึง 10\n",
        "    print(f\"{sootcoon} x {x} = {sootcoon * x}\")\n"
      ],
      "metadata": {
        "colab": {
          "base_uri": "https://localhost:8080/"
        },
        "id": "X_W-CBUFvSED",
        "outputId": "6e4b742c-4ff0-40c0-f344-b758e68c2843"
      },
      "execution_count": null,
      "outputs": [
        {
          "output_type": "stream",
          "name": "stdout",
          "text": [
            "กรุณาป้อนแม่สูตรคูณ: 6\n",
            "-------------------\n",
            "6 x 1 = 6\n",
            "6 x 2 = 12\n",
            "6 x 3 = 18\n",
            "6 x 4 = 24\n",
            "6 x 5 = 30\n",
            "6 x 6 = 36\n",
            "6 x 7 = 42\n",
            "6 x 8 = 48\n",
            "6 x 9 = 54\n",
            "6 x 10 = 60\n"
          ]
        }
      ]
    },
    {
      "cell_type": "code",
      "source": [
        "# ลูปแสดงผลแม่สูตรคูณตั้งแต่ 1 ถึง 12\n",
        "for sootcoon in range(1, 13):  # ลูปแม่สูตรคูณตั้งแต่ 1 ถึง 12\n",
        "    print(f\"แม่สูตรคูณ {sootcoon}\")\n",
        "    print('-------------------')\n",
        "\n",
        "    # ลูปแสดงผลสูตรคูณของแม่ที่เลือก\n",
        "    for x in range(1, 11):  # ตั้งแต่ 1 ถึง 10\n",
        "        print(f\"{sootcoon} x {x} = {sootcoon * x}\")\n",
        "\n",
        "    # ขึ้นบรรทัดใหม่หลังจากแสดงสูตรคูณของแต่ละแม่\n",
        "    print()\n"
      ],
      "metadata": {
        "colab": {
          "base_uri": "https://localhost:8080/"
        },
        "id": "0_U1Pzk3x6MF",
        "outputId": "892bfda0-c191-476a-ddaf-517f8739db5f"
      },
      "execution_count": null,
      "outputs": [
        {
          "output_type": "stream",
          "name": "stdout",
          "text": [
            "แม่สูตรคูณ 1\n",
            "-------------------\n",
            "1 x 1 = 1\n",
            "1 x 2 = 2\n",
            "1 x 3 = 3\n",
            "1 x 4 = 4\n",
            "1 x 5 = 5\n",
            "1 x 6 = 6\n",
            "1 x 7 = 7\n",
            "1 x 8 = 8\n",
            "1 x 9 = 9\n",
            "1 x 10 = 10\n",
            "\n",
            "แม่สูตรคูณ 2\n",
            "-------------------\n",
            "2 x 1 = 2\n",
            "2 x 2 = 4\n",
            "2 x 3 = 6\n",
            "2 x 4 = 8\n",
            "2 x 5 = 10\n",
            "2 x 6 = 12\n",
            "2 x 7 = 14\n",
            "2 x 8 = 16\n",
            "2 x 9 = 18\n",
            "2 x 10 = 20\n",
            "\n",
            "แม่สูตรคูณ 3\n",
            "-------------------\n",
            "3 x 1 = 3\n",
            "3 x 2 = 6\n",
            "3 x 3 = 9\n",
            "3 x 4 = 12\n",
            "3 x 5 = 15\n",
            "3 x 6 = 18\n",
            "3 x 7 = 21\n",
            "3 x 8 = 24\n",
            "3 x 9 = 27\n",
            "3 x 10 = 30\n",
            "\n",
            "แม่สูตรคูณ 4\n",
            "-------------------\n",
            "4 x 1 = 4\n",
            "4 x 2 = 8\n",
            "4 x 3 = 12\n",
            "4 x 4 = 16\n",
            "4 x 5 = 20\n",
            "4 x 6 = 24\n",
            "4 x 7 = 28\n",
            "4 x 8 = 32\n",
            "4 x 9 = 36\n",
            "4 x 10 = 40\n",
            "\n",
            "แม่สูตรคูณ 5\n",
            "-------------------\n",
            "5 x 1 = 5\n",
            "5 x 2 = 10\n",
            "5 x 3 = 15\n",
            "5 x 4 = 20\n",
            "5 x 5 = 25\n",
            "5 x 6 = 30\n",
            "5 x 7 = 35\n",
            "5 x 8 = 40\n",
            "5 x 9 = 45\n",
            "5 x 10 = 50\n",
            "\n",
            "แม่สูตรคูณ 6\n",
            "-------------------\n",
            "6 x 1 = 6\n",
            "6 x 2 = 12\n",
            "6 x 3 = 18\n",
            "6 x 4 = 24\n",
            "6 x 5 = 30\n",
            "6 x 6 = 36\n",
            "6 x 7 = 42\n",
            "6 x 8 = 48\n",
            "6 x 9 = 54\n",
            "6 x 10 = 60\n",
            "\n",
            "แม่สูตรคูณ 7\n",
            "-------------------\n",
            "7 x 1 = 7\n",
            "7 x 2 = 14\n",
            "7 x 3 = 21\n",
            "7 x 4 = 28\n",
            "7 x 5 = 35\n",
            "7 x 6 = 42\n",
            "7 x 7 = 49\n",
            "7 x 8 = 56\n",
            "7 x 9 = 63\n",
            "7 x 10 = 70\n",
            "\n",
            "แม่สูตรคูณ 8\n",
            "-------------------\n",
            "8 x 1 = 8\n",
            "8 x 2 = 16\n",
            "8 x 3 = 24\n",
            "8 x 4 = 32\n",
            "8 x 5 = 40\n",
            "8 x 6 = 48\n",
            "8 x 7 = 56\n",
            "8 x 8 = 64\n",
            "8 x 9 = 72\n",
            "8 x 10 = 80\n",
            "\n",
            "แม่สูตรคูณ 9\n",
            "-------------------\n",
            "9 x 1 = 9\n",
            "9 x 2 = 18\n",
            "9 x 3 = 27\n",
            "9 x 4 = 36\n",
            "9 x 5 = 45\n",
            "9 x 6 = 54\n",
            "9 x 7 = 63\n",
            "9 x 8 = 72\n",
            "9 x 9 = 81\n",
            "9 x 10 = 90\n",
            "\n",
            "แม่สูตรคูณ 10\n",
            "-------------------\n",
            "10 x 1 = 10\n",
            "10 x 2 = 20\n",
            "10 x 3 = 30\n",
            "10 x 4 = 40\n",
            "10 x 5 = 50\n",
            "10 x 6 = 60\n",
            "10 x 7 = 70\n",
            "10 x 8 = 80\n",
            "10 x 9 = 90\n",
            "10 x 10 = 100\n",
            "\n",
            "แม่สูตรคูณ 11\n",
            "-------------------\n",
            "11 x 1 = 11\n",
            "11 x 2 = 22\n",
            "11 x 3 = 33\n",
            "11 x 4 = 44\n",
            "11 x 5 = 55\n",
            "11 x 6 = 66\n",
            "11 x 7 = 77\n",
            "11 x 8 = 88\n",
            "11 x 9 = 99\n",
            "11 x 10 = 110\n",
            "\n",
            "แม่สูตรคูณ 12\n",
            "-------------------\n",
            "12 x 1 = 12\n",
            "12 x 2 = 24\n",
            "12 x 3 = 36\n",
            "12 x 4 = 48\n",
            "12 x 5 = 60\n",
            "12 x 6 = 72\n",
            "12 x 7 = 84\n",
            "12 x 8 = 96\n",
            "12 x 9 = 108\n",
            "12 x 10 = 120\n",
            "\n"
          ]
        }
      ]
    },
    {
      "cell_type": "code",
      "source": [
        "import requests\n",
        "\n",
        "# URL ของ API สำหรับดึงข้อมูลราคาบิตคอยน์\n",
        "url = 'https://api.coingecko.com/api/v3/simple/price?ids=bitcoin&vs_currencies=usd'\n",
        "\n",
        "# ส่งคำขอไปยัง API\n",
        "response = requests.get(url)\n",
        "\n",
        "# ตรวจสอบว่าคำขอสำเร็จหรือไม่\n",
        "if response.status_code == 200:\n",
        "    data = response.json()  # แปลงข้อมูลที่ได้รับเป็น JSON\n",
        "    # ดึงราคาบิตคอยน์ในหน่วย USD\n",
        "    bitcoin_price = data['bitcoin']['usd']\n",
        "    print(f\"ราคาบิตคอยน์ตอนนี้คือ ${bitcoin_price} USD\")\n",
        "else:\n",
        "    print(\"ไม่สามารถดึงข้อมูลได้ กรุณาลองใหม่อีกครั้ง\")\n"
      ],
      "metadata": {
        "colab": {
          "base_uri": "https://localhost:8080/"
        },
        "id": "1mfo03YGzlZ0",
        "outputId": "d9cef605-bdca-4d94-ed37-c5a7fe1458c2"
      },
      "execution_count": 60,
      "outputs": [
        {
          "output_type": "stream",
          "name": "stdout",
          "text": [
            "ราคาบิตคอยน์ตอนนี้คือ $93389 USD\n"
          ]
        }
      ]
    }
  ]
}